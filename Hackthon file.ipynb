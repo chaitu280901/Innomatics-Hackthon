{
 "cells": [
  {
   "cell_type": "code",
   "execution_count": 40,
   "id": "c13d6e01",
   "metadata": {},
   "outputs": [],
   "source": [
    "import numpy as np\n",
    "import pandas as pd\n",
    "import matplotlib.pyplot as plt\n",
    "import seaborn as sns"
   ]
  },
  {
   "cell_type": "code",
   "execution_count": 57,
   "id": "5073f871",
   "metadata": {},
   "outputs": [],
   "source": [
    "df = pd.read_csv(r\"D:\\Hackthon\\ratings.csv\")\n",
    "df1 = pd.read_csv(r\"D:\\Hackthon\\movies.csv\")\n",
    "df2 = pd.read_csv(r\"D:\\Hackthon\\tags.csv\")\n",
    "df3 = pd.read_csv(r\"D:\\Hackthon\\links.csv\")"
   ]
  },
  {
   "cell_type": "code",
   "execution_count": 38,
   "id": "e95bfb68",
   "metadata": {},
   "outputs": [
    {
     "data": {
      "text/html": [
       "<div>\n",
       "<style scoped>\n",
       "    .dataframe tbody tr th:only-of-type {\n",
       "        vertical-align: middle;\n",
       "    }\n",
       "\n",
       "    .dataframe tbody tr th {\n",
       "        vertical-align: top;\n",
       "    }\n",
       "\n",
       "    .dataframe thead th {\n",
       "        text-align: right;\n",
       "    }\n",
       "</style>\n",
       "<table border=\"1\" class=\"dataframe\">\n",
       "  <thead>\n",
       "    <tr style=\"text-align: right;\">\n",
       "      <th></th>\n",
       "      <th>userId</th>\n",
       "      <th>movieId</th>\n",
       "      <th>rating</th>\n",
       "      <th>timestamp</th>\n",
       "    </tr>\n",
       "  </thead>\n",
       "  <tbody>\n",
       "    <tr>\n",
       "      <th>0</th>\n",
       "      <td>1</td>\n",
       "      <td>1</td>\n",
       "      <td>4.0</td>\n",
       "      <td>964982703</td>\n",
       "    </tr>\n",
       "    <tr>\n",
       "      <th>1</th>\n",
       "      <td>1</td>\n",
       "      <td>3</td>\n",
       "      <td>4.0</td>\n",
       "      <td>964981247</td>\n",
       "    </tr>\n",
       "    <tr>\n",
       "      <th>2</th>\n",
       "      <td>1</td>\n",
       "      <td>6</td>\n",
       "      <td>4.0</td>\n",
       "      <td>964982224</td>\n",
       "    </tr>\n",
       "    <tr>\n",
       "      <th>3</th>\n",
       "      <td>1</td>\n",
       "      <td>47</td>\n",
       "      <td>5.0</td>\n",
       "      <td>964983815</td>\n",
       "    </tr>\n",
       "    <tr>\n",
       "      <th>4</th>\n",
       "      <td>1</td>\n",
       "      <td>50</td>\n",
       "      <td>5.0</td>\n",
       "      <td>964982931</td>\n",
       "    </tr>\n",
       "    <tr>\n",
       "      <th>...</th>\n",
       "      <td>...</td>\n",
       "      <td>...</td>\n",
       "      <td>...</td>\n",
       "      <td>...</td>\n",
       "    </tr>\n",
       "    <tr>\n",
       "      <th>100831</th>\n",
       "      <td>610</td>\n",
       "      <td>166534</td>\n",
       "      <td>4.0</td>\n",
       "      <td>1493848402</td>\n",
       "    </tr>\n",
       "    <tr>\n",
       "      <th>100832</th>\n",
       "      <td>610</td>\n",
       "      <td>168248</td>\n",
       "      <td>5.0</td>\n",
       "      <td>1493850091</td>\n",
       "    </tr>\n",
       "    <tr>\n",
       "      <th>100833</th>\n",
       "      <td>610</td>\n",
       "      <td>168250</td>\n",
       "      <td>5.0</td>\n",
       "      <td>1494273047</td>\n",
       "    </tr>\n",
       "    <tr>\n",
       "      <th>100834</th>\n",
       "      <td>610</td>\n",
       "      <td>168252</td>\n",
       "      <td>5.0</td>\n",
       "      <td>1493846352</td>\n",
       "    </tr>\n",
       "    <tr>\n",
       "      <th>100835</th>\n",
       "      <td>610</td>\n",
       "      <td>170875</td>\n",
       "      <td>3.0</td>\n",
       "      <td>1493846415</td>\n",
       "    </tr>\n",
       "  </tbody>\n",
       "</table>\n",
       "<p>100836 rows × 4 columns</p>\n",
       "</div>"
      ],
      "text/plain": [
       "        userId  movieId  rating   timestamp\n",
       "0            1        1     4.0   964982703\n",
       "1            1        3     4.0   964981247\n",
       "2            1        6     4.0   964982224\n",
       "3            1       47     5.0   964983815\n",
       "4            1       50     5.0   964982931\n",
       "...        ...      ...     ...         ...\n",
       "100831     610   166534     4.0  1493848402\n",
       "100832     610   168248     5.0  1493850091\n",
       "100833     610   168250     5.0  1494273047\n",
       "100834     610   168252     5.0  1493846352\n",
       "100835     610   170875     3.0  1493846415\n",
       "\n",
       "[100836 rows x 4 columns]"
      ]
     },
     "execution_count": 38,
     "metadata": {},
     "output_type": "execute_result"
    }
   ],
   "source": [
    "df"
   ]
  },
  {
   "cell_type": "code",
   "execution_count": 17,
   "id": "81fbcbad",
   "metadata": {},
   "outputs": [
    {
     "data": {
      "text/plain": [
       "(9742, 3)"
      ]
     },
     "execution_count": 17,
     "metadata": {},
     "output_type": "execute_result"
    }
   ],
   "source": [
    "df1.shape"
   ]
  },
  {
   "cell_type": "code",
   "execution_count": 18,
   "id": "629db117",
   "metadata": {},
   "outputs": [
    {
     "data": {
      "text/plain": [
       "(100836, 4)"
      ]
     },
     "execution_count": 18,
     "metadata": {},
     "output_type": "execute_result"
    }
   ],
   "source": [
    "df.shape"
   ]
  },
  {
   "cell_type": "code",
   "execution_count": 21,
   "id": "4f4bf94d",
   "metadata": {},
   "outputs": [
    {
     "data": {
      "text/plain": [
       "610"
      ]
     },
     "execution_count": 21,
     "metadata": {},
     "output_type": "execute_result"
    }
   ],
   "source": [
    "df['userId'].nunique()"
   ]
  },
  {
   "cell_type": "code",
   "execution_count": 22,
   "id": "48add211",
   "metadata": {},
   "outputs": [],
   "source": [
    "merge = pd.merge(df, df1, on = \"movieId\")"
   ]
  },
  {
   "cell_type": "code",
   "execution_count": 29,
   "id": "cb727844",
   "metadata": {},
   "outputs": [
    {
     "data": {
      "text/plain": [
       "'Forrest Gump (1994)'"
      ]
     },
     "execution_count": 29,
     "metadata": {},
     "output_type": "execute_result"
    }
   ],
   "source": [
    "groupby = merge.groupby(\"title\")[\"rating\"].count()\n",
    "maxratingmovie = groupby.idxmax()\n",
    "maxratingmovie"
   ]
  },
  {
   "cell_type": "code",
   "execution_count": 32,
   "id": "79d4b376",
   "metadata": {},
   "outputs": [
    {
     "data": {
      "text/plain": [
       "array(['martial arts', 'sci-fi', 'alternate universe', 'philosophy',\n",
       "       'post apocalyptic'], dtype=object)"
      ]
     },
     "execution_count": 32,
     "metadata": {},
     "output_type": "execute_result"
    }
   ],
   "source": [
    "matrixmovie = df1[df1['title'] == 'Matrix, The (1999)']['movieId'].values[0]\n",
    "matrixtag = df2[df2['movieId'] == matrixmovie]['tag']\n",
    "tags = matrixtag.unique()            \n",
    "tags"
   ]
  },
  {
   "cell_type": "code",
   "execution_count": null,
   "id": "ec7e5111",
   "metadata": {},
   "outputs": [],
   "source": [
    "movieid = df1[df1['title'] == 'Terminator 2: Judgement Day (1991)']['movieId'].values[0]\n",
    "movierating = df[df['movieId'] == movieid]['rating']\n",
    "avg = movierating.mean()\n",
    "avg"
   ]
  },
  {
   "cell_type": "code",
   "execution_count": 45,
   "id": "9d0bfb99",
   "metadata": {},
   "outputs": [
    {
     "data": {
      "image/png": "[encoded data removed]",
      "text/plain": [
       "<Figure size 640x480 with 1 Axes>"
      ]
     },
     "metadata": {},
     "output_type": "display_data"
    }
   ],
   "source": [
    "fightclub = df1[df1['title'] == 'Fight Club (1999)']['movieId'].values[0]\n",
    "fightclubratings = df[df['movieId'] == fightclub]['rating']\n",
    "plt.hist(fightclubratings, bins=[0.5, 1.5, 2.5, 3.5, 4.5, 5.5], edgecolor='black')\n",
    "plt.title('Histogram Distribution')\n",
    "plt.xlabel('Rating')\n",
    "plt.ylabel('Users')\n",
    "plt.show()\n",
    "\n",
    "## Left Skewed"
   ]
  },
  {
   "cell_type": "code",
   "execution_count": 47,
   "id": "7079381d",
   "metadata": {},
   "outputs": [
    {
     "name": "stdout",
     "output_type": "stream",
     "text": [
      "                                title      mean\n",
      "277  Shawshank Redemption, The (1994)  4.429022\n"
     ]
    }
   ],
   "source": [
    "group_ratings = df.groupby('movieId')['rating'].agg(['count', 'mean'])\n",
    "merging = pd.merge(df1, group_ratings, on='movieId', how='inner')\n",
    "filtered = merging[merging['count'] > 50]\n",
    "hit = filtered[filtered['mean'] == filtered['mean'].max()]\n",
    "print(hit[['title', 'mean']])"
   ]
  },
  {
   "cell_type": "code",
   "execution_count": 54,
   "id": "68c21f27",
   "metadata": {},
   "outputs": [
    {
     "name": "stdout",
     "output_type": "stream",
     "text": [
      "                                 title  count\n",
      "314                Forrest Gump (1994)    329\n",
      "277   Shawshank Redemption, The (1994)    317\n",
      "257                Pulp Fiction (1994)    307\n",
      "510   Silence of the Lambs, The (1991)    279\n",
      "1938                Matrix, The (1999)    278\n"
     ]
    }
   ],
   "source": [
    "groupby = df.groupby('movieId')['rating'].agg(['count', 'mean'])\n",
    "merge = pd.merge(df1, groupby, on='movieId', how='inner')\n",
    "filtered = merge[merge['count'] > 50]\n",
    "topmovies = filtered.nlargest(5, 'count')\n",
    "print(topmovies[['title', 'count']])"
   ]
  },
  {
   "cell_type": "code",
   "execution_count": 56,
   "id": "2fa9de1e",
   "metadata": {},
   "outputs": [
    {
     "name": "stdout",
     "output_type": "stream",
     "text": [
      "title    Jurassic Park (1993)\n",
      "count                     238\n",
      "Name: 418, dtype: object\n"
     ]
    }
   ],
   "source": [
    "groupby = df.groupby('movieId')['rating'].agg(['count', 'mean'])\n",
    "merge = pd.merge(df1, groupby, on='movieId', how='inner')\n",
    "filter = merge[merge['count'] > 50]\n",
    "scifi = filter[filter['genres'].str.contains('Sci-Fi')]\n",
    "thirdpop = scifi_movies.nlargest(3, 'count').iloc[-1]\n",
    "print(thirdpop[['title', 'count']])"
   ]
  },
  {
   "cell_type": "code",
   "execution_count": 49,
   "id": "ccdfa87f",
   "metadata": {},
   "outputs": [
    {
     "data": {
      "text/plain": [
       "53"
      ]
     },
     "execution_count": 49,
     "metadata": {},
     "output_type": "execute_result"
    }
   ],
   "source": [
    "merge = pd.merge(df1, df, on='movieId', how='inner')\n",
    "avg = merge.groupby('movieId')['rating'].mean()\n",
    "IMDB = avg.idxmax()\n",
    "IMDB"
   ]
  },
  {
   "cell_type": "code",
   "execution_count": 60,
   "id": "7920d096",
   "metadata": {},
   "outputs": [
    {
     "data": {
      "text/plain": [
       "3687"
      ]
     },
     "execution_count": 60,
     "metadata": {},
     "output_type": "execute_result"
    }
   ],
   "source": [
    "merged = pd.merge(df1, df, on='movieId', how='inner')\n",
    "avg_rating = merged.groupby('movieId')['rating'].mean()\n",
    "\n",
    "high_rated_scifi_movie_id = (\n",
    "    merged[merged['genres'].str.contains('Sci-Fi')]\n",
    "    .groupby('movieId')['rating']\n",
    "    .mean()\n",
    "    .idxmax()\n",
    ")\n",
    "\n",
    "high_rated_scifi_movie_id"
   ]
  },
  {
   "cell_type": "code",
   "execution_count": null,
   "id": "8b3b1620",
   "metadata": {},
   "outputs": [],
   "source": []
  },
  {
   "cell_type": "code",
   "execution_count": null,
   "id": "6b058f78",
   "metadata": {},
   "outputs": [],
   "source": []
  },
  {
   "cell_type": "code",
   "execution_count": null,
   "id": "2d8c9f69",
   "metadata": {},
   "outputs": [],
   "source": []
  },
  {
   "cell_type": "code",
   "execution_count": null,
   "id": "e6e5a00d",
   "metadata": {},
   "outputs": [],
   "source": []
  }
 ],
 "metadata": {
  "kernelspec": {
   "display_name": "Python 3 (ipykernel)",
   "language": "python",
   "name": "python3"
  },
  "language_info": {
   "codemirror_mode": {
    "name": "ipython",
    "version": 3
   },
   "file_extension": ".py",
   "mimetype": "text/x-python",
   "name": "python",
   "nbconvert_exporter": "python",
   "pygments_lexer": "ipython3",
   "version": "3.11.4"
  }
 },
 "nbformat": 4,
 "nbformat_minor": 5
}
